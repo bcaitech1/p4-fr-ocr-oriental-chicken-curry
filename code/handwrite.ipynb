{
 "metadata": {
  "language_info": {
   "codemirror_mode": {
    "name": "ipython",
    "version": 3
   },
   "file_extension": ".py",
   "mimetype": "text/x-python",
   "name": "python",
   "nbconvert_exporter": "python",
   "pygments_lexer": "ipython3",
   "version": "3.7.7"
  },
  "orig_nbformat": 2,
  "kernelspec": {
   "name": "python377jvsc74a57bd098b0a9b7b4eaaa670588a142fd0a9b87eaafe866f1db4228be72b4211d12040f",
   "display_name": "Python 3.7.7 64-bit ('base': conda)"
  }
 },
 "nbformat": 4,
 "nbformat_minor": 2,
 "cells": [
  {
   "cell_type": "code",
   "execution_count": 1,
   "metadata": {},
   "outputs": [],
   "source": [
    "import csv\n",
    "import os\n",
    "import random\n",
    "import torch\n",
    "\n",
    "import numpy as np\n",
    "\n",
    "from PIL import Image, ImageOps\n",
    "from torch.utils.data import Dataset\n",
    "from torch.utils.data import DataLoader\n",
    "\n",
    "START = \"<SOS>\"\n",
    "END = \"<EOS>\"\n",
    "PAD = \"<PAD>\"\n",
    "SPECIAL_TOKENS = [START, END, PAD]\n"
   ]
  },
  {
   "cell_type": "code",
   "execution_count": 52,
   "metadata": {},
   "outputs": [],
   "source": [
    "def split_gt(groundtruth, proportion=1.0, test_percent=None):\n",
    "    \"\"\"ground truth를 나눔\n",
    "\n",
    "    Args:\n",
    "        groundtruth(str) : ground truth의 file path\n",
    "        proportion(float) : ground truth에서 얼마만큼의 비율을 가져올지\n",
    "        test_percent(float) : validation data를 얼마만큼 가져갈지에 대한 비율\n",
    "\n",
    "    Returns:\n",
    "        list : train,valid data list\n",
    "\n",
    "    \"\"\"\n",
    "    groundtruth = \"/opt/ml/code/train_dataset/gt.txt\"\n",
    "    source = \"/opt/ml/code/train_dataset/source.txt\"\n",
    "    root = os.path.join(os.path.dirname(groundtruth), \"images\")\n",
    "    with open(groundtruth, \"r\") as gt , open(source, \"r\") as sc:\n",
    "        data_0 =[] # 프린트\n",
    "        data_1=[] # 손글씨\n",
    "        for fd_l , sc_l in zip(gt, sc):\n",
    "            tem = sc_l.strip().split(\"\\t\")[1]\n",
    "            if tem == '0':\n",
    "                data_0.append(fd_l.strip().split(\"\\t\"))\n",
    "            else:\n",
    "                data_1.append(fd_l.strip().split(\"\\t\"))\n",
    "        random.shuffle(data_0)\n",
    "        random.shuffle(data_1)\n",
    "        data_1 = [[os.path.join(root, data_0[i][0]), data_0[i][1]] for i in range(40000,50000)] + [[os.path.join(root, data_1[i][0]), data_1[i][1]] for i in range(10000)]\n",
    "        random.shuffle(data_1)\n",
    "        data_0 = [[os.path.join(root, data_0[i][0]), data_0[i][1]] for i in range(40000)]\n",
    "    \n",
    "    if test_percent:\n",
    "        return data_0, data_1\n",
    "    else:\n",
    "        return data"
   ]
  },
  {
   "cell_type": "code",
   "execution_count": 53,
   "metadata": {},
   "outputs": [],
   "source": [
    "train_data, val_data = split_gt(\"/opt/ml/code/train_dataset/gt.txt\",test_percent=True)"
   ]
  },
  {
   "cell_type": "code",
   "execution_count": 54,
   "metadata": {},
   "outputs": [
    {
     "output_type": "execute_result",
     "data": {
      "text/plain": [
       "(40000, 20000)"
      ]
     },
     "metadata": {},
     "execution_count": 54
    }
   ],
   "source": [
    "len(train_data), len(val_data)"
   ]
  },
  {
   "cell_type": "code",
   "execution_count": 68,
   "metadata": {},
   "outputs": [
    {
     "output_type": "execute_result",
     "data": {
      "text/plain": [
       "'64718'"
      ]
     },
     "metadata": {},
     "execution_count": 68
    }
   ],
   "source": [
    "train_data[2][0][-9:-4]"
   ]
  },
  {
   "cell_type": "code",
   "execution_count": 43,
   "metadata": {},
   "outputs": [],
   "source": [
    "source = \"/opt/ml/code/train_dataset/source.txt\"\n",
    "with open(source, \"r\") as sc:\n",
    "    data = []\n",
    "    for x in sc:\n",
    "        data.append(x.strip().split(\"\\t\")[1])"
   ]
  },
  {
   "cell_type": "code",
   "execution_count": 69,
   "metadata": {},
   "outputs": [
    {
     "output_type": "execute_result",
     "data": {
      "text/plain": [
       "'0'"
      ]
     },
     "metadata": {},
     "execution_count": 69
    }
   ],
   "source": [
    "data[64718]"
   ]
  },
  {
   "cell_type": "code",
   "execution_count": null,
   "metadata": {},
   "outputs": [],
   "source": []
  }
 ]
}